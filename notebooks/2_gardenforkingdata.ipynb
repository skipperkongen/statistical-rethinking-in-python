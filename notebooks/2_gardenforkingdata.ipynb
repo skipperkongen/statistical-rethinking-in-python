{
 "cells": [
  {
   "attachments": {},
   "cell_type": "markdown",
   "metadata": {},
   "source": [
    "# The Garden of Forking Data (2:20?)\n",
    "\n",
    "> https://youtu.be/R1vcdhPBlXA\n",
    "\n"
   ]
  },
  {
   "cell_type": "code",
   "execution_count": 17,
   "metadata": {},
   "outputs": [],
   "source": [
    "import matplotlib.pyplot as plt\n",
    "import pandas as pd\n",
    "import numpy as np\n",
    "import seaborn as sns\n",
    "from scipy import stats\n",
    "import matplotlib.patches as patches\n"
   ]
  },
  {
   "attachments": {},
   "cell_type": "markdown",
   "metadata": {},
   "source": [
    "## Globe example (finite possibilities)\n",
    "\n",
    "Here we approximate a globe by a four-sided die. This gives five possibilities of proportions between water (W) and land (L):\n",
    "- 0 water, 4 land\n",
    "- 1 water, 3 land\n",
    "- 2 water, 2 land\n",
    "- 3 water, 1 land\n",
    "- 4 water, 0 land\n"
   ]
  },
  {
   "cell_type": "code",
   "execution_count": 42,
   "metadata": {},
   "outputs": [
    {
     "name": "stdout",
     "output_type": "stream",
     "text": [
      "['W' 'W' 'W' 'W' 'W' 'W' 'W' 'W' 'W']\n",
      "0.4968\n"
     ]
    }
   ],
   "source": [
    "def sim_globe(p=0.7, n=9):\n",
    "    return np.random.choice(['W', 'L'], p=[p, 1-p], size=n)\n",
    "\n",
    "print(sim_globe(p=1))\n",
    "print(sum(sim_globe(p=0.5, n=int(1e4)) == 'W') / 1e4)"
   ]
  },
  {
   "cell_type": "code",
   "execution_count": 12,
   "metadata": {},
   "outputs": [
    {
     "name": "stdout",
     "output_type": "stream",
     "text": [
      "Sample: ['L' 'L' 'W' 'W' 'L' 'W' 'W' 'W' 'W']\n"
     ]
    },
    {
     "data": {
      "text/html": [
       "<div>\n",
       "<style scoped>\n",
       "    .dataframe tbody tr th:only-of-type {\n",
       "        vertical-align: middle;\n",
       "    }\n",
       "\n",
       "    .dataframe tbody tr th {\n",
       "        vertical-align: top;\n",
       "    }\n",
       "\n",
       "    .dataframe thead th {\n",
       "        text-align: right;\n",
       "    }\n",
       "</style>\n",
       "<table border=\"1\" class=\"dataframe\">\n",
       "  <thead>\n",
       "    <tr style=\"text-align: right;\">\n",
       "      <th></th>\n",
       "      <th>poss</th>\n",
       "      <th>ways</th>\n",
       "      <th>post</th>\n",
       "    </tr>\n",
       "  </thead>\n",
       "  <tbody>\n",
       "    <tr>\n",
       "      <th>0</th>\n",
       "      <td>0.00</td>\n",
       "      <td>0.0</td>\n",
       "      <td>0.000000</td>\n",
       "    </tr>\n",
       "    <tr>\n",
       "      <th>1</th>\n",
       "      <td>0.25</td>\n",
       "      <td>27.0</td>\n",
       "      <td>0.021293</td>\n",
       "    </tr>\n",
       "    <tr>\n",
       "      <th>2</th>\n",
       "      <td>0.50</td>\n",
       "      <td>512.0</td>\n",
       "      <td>0.403785</td>\n",
       "    </tr>\n",
       "    <tr>\n",
       "      <th>3</th>\n",
       "      <td>0.75</td>\n",
       "      <td>729.0</td>\n",
       "      <td>0.574921</td>\n",
       "    </tr>\n",
       "    <tr>\n",
       "      <th>4</th>\n",
       "      <td>1.00</td>\n",
       "      <td>0.0</td>\n",
       "      <td>0.000000</td>\n",
       "    </tr>\n",
       "  </tbody>\n",
       "</table>\n",
       "</div>"
      ],
      "text/plain": [
       "   poss   ways      post\n",
       "0  0.00    0.0  0.000000\n",
       "1  0.25   27.0  0.021293\n",
       "2  0.50  512.0  0.403785\n",
       "3  0.75  729.0  0.574921\n",
       "4  1.00    0.0  0.000000"
      ]
     },
     "metadata": {},
     "output_type": "display_data"
    },
    {
     "data": {
      "text/plain": [
       "<Axes: xlabel='poss', ylabel='post'>"
      ]
     },
     "execution_count": 12,
     "metadata": {},
     "output_type": "execute_result"
    },
    {
     "data": {
      "image/png": "[encoded data removed]",
      "text/plain": [
       "<Figure size 640x480 with 1 Axes>"
      ]
     },
     "metadata": {},
     "output_type": "display_data"
    }
   ],
   "source": [
    "def compute_posterior(sample, world_size=4, poss=[0,0.25, 0.5, 0.75, 1.0]):\n",
    "    W = sum(sample == 'W')\n",
    "    L = sum(sample == 'L')\n",
    "    f = lambda q: (world_size*q)**W * (world_size*(1-q))**L\n",
    "    ways = np.array(list(map(f, poss, )))\n",
    "    post = ways/ways.sum()\n",
    "    return pd.DataFrame({'poss': poss, 'ways': ways, 'post': post})\n",
    "\n",
    "sample = sim_globe()\n",
    "df = compute_posterior(sim_globe())\n",
    "print('Sample:', sample)\n",
    "display(df)\n",
    "sns.barplot(df, x='poss', y='post')\n"
   ]
  },
  {
   "attachments": {},
   "cell_type": "markdown",
   "metadata": {},
   "source": [
    "## Globe example (infinite possibilities)\n",
    "\n",
    "The example for a spherical globe is almost exactly the same, since we don't care how many faces are on the surface, just what the proportion between water and land is.\n",
    "\n",
    "The posterior destribution is the [beta distribution](https://en.wikipedia.org/wiki/Beta_distribution), with shape parameters W and L."
   ]
  },
  {
   "cell_type": "code",
   "execution_count": 61,
   "metadata": {},
   "outputs": [
    {
     "name": "stdout",
     "output_type": "stream",
     "text": [
      "74 26\n"
     ]
    },
    {
     "data": {
      "image/png": "[encoded data removed]",
      "text/plain": [
       "<Figure size 640x480 with 1 Axes>"
      ]
     },
     "metadata": {},
     "output_type": "display_data"
    }
   ],
   "source": [
    "sample = sim_globe(p=0.7, n=100)\n",
    "W = (sample == 'W').sum()\n",
    "L = (sample == 'L').sum()\n",
    "print(W,L)\n",
    "\n",
    "\n",
    "X = np.linspace(0,1,100)\n",
    "Y = stats.beta.pdf(X, W, L)\n",
    "Y = Y/Y.sum()\n",
    "sns.lineplot(x=X, y=Y)\n",
    "\n",
    "# lower and upper bound for 95%\n",
    "interval = 0.89\n",
    "lower_p = (1-interval)/2\n",
    "upper_p = 1-lower_p\n",
    "lb = stats.beta.ppf(lower_p/2, W, L)\n",
    "ub = LB = stats.beta.ppf(upper_p, W, L)\n",
    "plt.axvline(lb, 0, 1, color='red')\n",
    "plt.axvline(ub, 0, 1, color='red')\n",
    "plt.ylim((0 ,Y.max()))\n",
    "plt.show()"
   ]
  },
  {
   "cell_type": "code",
   "execution_count": null,
   "metadata": {},
   "outputs": [],
   "source": []
  }
 ],
 "metadata": {
  "kernelspec": {
   "display_name": "Python 3.10.4 64-bit",
   "language": "python",
   "name": "python3"
  },
  "language_info": {
   "codemirror_mode": {
    "name": "ipython",
    "version": 3
   },
   "file_extension": ".py",
   "mimetype": "text/x-python",
   "name": "python",
   "nbconvert_exporter": "python",
   "pygments_lexer": "ipython3",
   "version": "3.10.4"
  },
  "orig_nbformat": 4,
  "vscode": {
   "interpreter": {
    "hash": "3ad933181bd8a04b432d3370b9dc3b0662ad032c4dfaa4e4f1596c548f763858"
   }
  }
 },
 "nbformat": 4,
 "nbformat_minor": 2
}

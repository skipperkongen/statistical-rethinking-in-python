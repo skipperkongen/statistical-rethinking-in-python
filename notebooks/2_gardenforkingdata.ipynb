{
 "cells": [
  {
   "attachments": {},
   "cell_type": "markdown",
   "metadata": {},
   "source": [
    "# The Garden of Forking Data (2:20?)\n",
    "\n",
    "> https://youtu.be/R1vcdhPBlXA\n",
    "\n"
   ]
  },
  {
   "cell_type": "code",
   "execution_count": 50,
   "metadata": {},
   "outputs": [],
   "source": [
    "import matplotlib.pyplot as plt\n",
    "import pandas as pd\n",
    "import numpy as np\n",
    "import seaborn as sns"
   ]
  },
  {
   "attachments": {},
   "cell_type": "markdown",
   "metadata": {},
   "source": [
    "## Globe example"
   ]
  },
  {
   "cell_type": "code",
   "execution_count": 22,
   "metadata": {},
   "outputs": [
    {
     "name": "stdout",
     "output_type": "stream",
     "text": [
      "['W' 'W' 'W' 'W' 'W' 'W' 'W' 'W' 'W']\n",
      "0.5054\n"
     ]
    }
   ],
   "source": [
    "def sim_globe(p=0.7, n=9):\n",
    "    return np.random.choice(['W', 'L'], p=[p, 1-p], size=n)\n",
    "\n",
    "print(sim_globe(p=1))\n",
    "print(sum(sim_globe(p=0.5, n=int(1e4)) == 'W') / 1e4)"
   ]
  },
  {
   "cell_type": "code",
   "execution_count": 51,
   "metadata": {},
   "outputs": [
    {
     "name": "stdout",
     "output_type": "stream",
     "text": [
      "Sample: ['W' 'L' 'W' 'W' 'W' 'W' 'W' 'L' 'L']\n"
     ]
    },
    {
     "data": {
      "text/html": [
       "<div>\n",
       "<style scoped>\n",
       "    .dataframe tbody tr th:only-of-type {\n",
       "        vertical-align: middle;\n",
       "    }\n",
       "\n",
       "    .dataframe tbody tr th {\n",
       "        vertical-align: top;\n",
       "    }\n",
       "\n",
       "    .dataframe thead th {\n",
       "        text-align: right;\n",
       "    }\n",
       "</style>\n",
       "<table border=\"1\" class=\"dataframe\">\n",
       "  <thead>\n",
       "    <tr style=\"text-align: right;\">\n",
       "      <th></th>\n",
       "      <th>poss</th>\n",
       "      <th>ways</th>\n",
       "      <th>post</th>\n",
       "    </tr>\n",
       "  </thead>\n",
       "  <tbody>\n",
       "    <tr>\n",
       "      <th>0</th>\n",
       "      <td>0.00</td>\n",
       "      <td>0.0</td>\n",
       "      <td>0.000000</td>\n",
       "    </tr>\n",
       "    <tr>\n",
       "      <th>1</th>\n",
       "      <td>0.25</td>\n",
       "      <td>9.0</td>\n",
       "      <td>0.003323</td>\n",
       "    </tr>\n",
       "    <tr>\n",
       "      <th>2</th>\n",
       "      <td>0.50</td>\n",
       "      <td>512.0</td>\n",
       "      <td>0.189069</td>\n",
       "    </tr>\n",
       "    <tr>\n",
       "      <th>3</th>\n",
       "      <td>0.75</td>\n",
       "      <td>2187.0</td>\n",
       "      <td>0.807607</td>\n",
       "    </tr>\n",
       "    <tr>\n",
       "      <th>4</th>\n",
       "      <td>1.00</td>\n",
       "      <td>0.0</td>\n",
       "      <td>0.000000</td>\n",
       "    </tr>\n",
       "  </tbody>\n",
       "</table>\n",
       "</div>"
      ],
      "text/plain": [
       "   poss    ways      post\n",
       "0  0.00     0.0  0.000000\n",
       "1  0.25     9.0  0.003323\n",
       "2  0.50   512.0  0.189069\n",
       "3  0.75  2187.0  0.807607\n",
       "4  1.00     0.0  0.000000"
      ]
     },
     "metadata": {},
     "output_type": "display_data"
    },
    {
     "data": {
      "text/plain": [
       "<Axes: xlabel='poss', ylabel='post'>"
      ]
     },
     "execution_count": 51,
     "metadata": {},
     "output_type": "execute_result"
    },
    {
     "data": {
      "image/png": "[encoded data removed]",
      "text/plain": [
       "<Figure size 640x480 with 1 Axes>"
      ]
     },
     "metadata": {},
     "output_type": "display_data"
    }
   ],
   "source": [
    "def compute_posterior(sample, world_size=4, poss=[0,0.25, 0.5, 0.75, 1.0]):\n",
    "    W = sum(sample == 'W')\n",
    "    L = sum(sample == 'L')\n",
    "    f = lambda q: (world_size*q)**W * (world_size*(1-q))**L\n",
    "    ways = np.array(list(map(f, poss, )))\n",
    "    post = ways/ways.sum()\n",
    "    return pd.DataFrame({'poss': poss, 'ways': ways, 'post': post})\n",
    "\n",
    "sample = sim_globe()\n",
    "df = compute_posterior(sim_globe())\n",
    "print('Sample:', sample)\n",
    "display(df)\n",
    "sns.barplot(df, x='poss', y='post')\n"
   ]
  },
  {
   "cell_type": "code",
   "execution_count": null,
   "metadata": {},
   "outputs": [],
   "source": []
  }
 ],
 "metadata": {
  "kernelspec": {
   "display_name": "Python 3.10.4 64-bit",
   "language": "python",
   "name": "python3"
  },
  "language_info": {
   "codemirror_mode": {
    "name": "ipython",
    "version": 3
   },
   "file_extension": ".py",
   "mimetype": "text/x-python",
   "name": "python",
   "nbconvert_exporter": "python",
   "pygments_lexer": "ipython3",
   "version": "3.10.4"
  },
  "orig_nbformat": 4,
  "vscode": {
   "interpreter": {
    "hash": "3ad933181bd8a04b432d3370b9dc3b0662ad032c4dfaa4e4f1596c548f763858"
   }
  }
 },
 "nbformat": 4,
 "nbformat_minor": 2
}

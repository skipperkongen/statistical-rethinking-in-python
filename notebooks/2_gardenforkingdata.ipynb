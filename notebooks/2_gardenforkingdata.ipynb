{
 "cells": [
  {
   "attachments": {},
   "cell_type": "markdown",
   "metadata": {},
   "source": [
    "# The Garden of Forking Data (lecture 2)\n",
    "\n",
    "> https://youtu.be/R1vcdhPBlXA\n",
    "\n"
   ]
  },
  {
   "cell_type": "code",
   "execution_count": 17,
   "metadata": {},
   "outputs": [],
   "source": [
    "import matplotlib.pyplot as plt\n",
    "import pandas as pd\n",
    "import numpy as np\n",
    "import seaborn as sns\n",
    "from scipy import stats\n",
    "import matplotlib.patches as patches\n"
   ]
  },
  {
   "attachments": {},
   "cell_type": "markdown",
   "metadata": {},
   "source": [
    "## Workflow\n",
    "\n",
    "Steps:\n",
    "- State a *clear scientific question* \n",
    "- Develop of a *causal model*\n",
    "- Develop a *baysian estimator*."
   ]
  },
  {
   "attachments": {},
   "cell_type": "markdown",
   "metadata": {},
   "source": [
    "## Scientific question: what proportion of Earth is covered by water?\n",
    "\n",
    "Goal: we want to know what proportion of Earth is covered by water (the estimand). Instead of a point estimate, we want a probability distribution of the proportion of Earth covered by water.\n",
    "\n",
    "Method: given a random sample of water vs land, we must use Bayesian inference to compute the posterior probability distribution of the proportion."
   ]
  },
  {
   "attachments": {},
   "cell_type": "markdown",
   "metadata": {},
   "source": [
    "## Causal model\n",
    "\n",
    "```\n",
    "               ┌────┐                \n",
    "          ┌───▶│ W  │◀───┐           \n",
    "          │    └────┘    │           \n",
    "┌────┐    │              │     ┌────┐\n",
    "│ N  │────┤              ├─────│ p  │\n",
    "└────┘    │              │     └────┘\n",
    "          │    ┌────┐    │           \n",
    "          └───▶│ L  │◀───┘           \n",
    "               └────┘                \n",
    "```"
   ]
  },
  {
   "attachments": {},
   "cell_type": "markdown",
   "metadata": {},
   "source": [
    "## Baysian estimator\n",
    "\n"
   ]
  },
  {
   "attachments": {},
   "cell_type": "markdown",
   "metadata": {},
   "source": [
    "###  Generative model\n",
    "\n",
    "We model the sample-generating process as the random choice between two options of water (W) and land (L) with probabilities $p(W)$ and $p(L)$."
   ]
  },
  {
   "cell_type": "code",
   "execution_count": 42,
   "metadata": {},
   "outputs": [
    {
     "name": "stdout",
     "output_type": "stream",
     "text": [
      "['W' 'W' 'W' 'W' 'W' 'W' 'W' 'W' 'W']\n",
      "0.4968\n"
     ]
    }
   ],
   "source": [
    "def sim_globe(p=0.7, n=9):\n",
    "    return np.random.choice(['W', 'L'], p=[p, 1-p], size=n)\n",
    "\n",
    "print(sim_globe(p=1))\n",
    "print(sum(sim_globe(p=0.5, n=int(1e4)) == 'W') / 1e4)"
   ]
  },
  {
   "attachments": {},
   "cell_type": "markdown",
   "metadata": {},
   "source": [
    "### Estimate posterior probability given sample"
   ]
  },
  {
   "attachments": {},
   "cell_type": "markdown",
   "metadata": {},
   "source": [
    "#### Approach 1: discretized globe"
   ]
  },
  {
   "cell_type": "code",
   "execution_count": 79,
   "metadata": {},
   "outputs": [
    {
     "name": "stdout",
     "output_type": "stream",
     "text": [
      "Sample: ['W' 'W' 'L' 'L' 'W' 'W' 'L' 'L' 'W']\n"
     ]
    },
    {
     "data": {
      "text/html": [
       "<div>\n",
       "<style scoped>\n",
       "    .dataframe tbody tr th:only-of-type {\n",
       "        vertical-align: middle;\n",
       "    }\n",
       "\n",
       "    .dataframe tbody tr th {\n",
       "        vertical-align: top;\n",
       "    }\n",
       "\n",
       "    .dataframe thead th {\n",
       "        text-align: right;\n",
       "    }\n",
       "</style>\n",
       "<table border=\"1\" class=\"dataframe\">\n",
       "  <thead>\n",
       "    <tr style=\"text-align: right;\">\n",
       "      <th></th>\n",
       "      <th>poss</th>\n",
       "      <th>ways</th>\n",
       "      <th>post</th>\n",
       "    </tr>\n",
       "  </thead>\n",
       "  <tbody>\n",
       "    <tr>\n",
       "      <th>0</th>\n",
       "      <td>0.00</td>\n",
       "      <td>0.00</td>\n",
       "      <td>0.00</td>\n",
       "    </tr>\n",
       "    <tr>\n",
       "      <th>1</th>\n",
       "      <td>0.05</td>\n",
       "      <td>0.00</td>\n",
       "      <td>0.00</td>\n",
       "    </tr>\n",
       "    <tr>\n",
       "      <th>2</th>\n",
       "      <td>0.10</td>\n",
       "      <td>0.19</td>\n",
       "      <td>0.00</td>\n",
       "    </tr>\n",
       "    <tr>\n",
       "      <th>3</th>\n",
       "      <td>0.15</td>\n",
       "      <td>1.83</td>\n",
       "      <td>0.00</td>\n",
       "    </tr>\n",
       "    <tr>\n",
       "      <th>4</th>\n",
       "      <td>0.20</td>\n",
       "      <td>8.59</td>\n",
       "      <td>0.00</td>\n",
       "    </tr>\n",
       "    <tr>\n",
       "      <th>5</th>\n",
       "      <td>0.25</td>\n",
       "      <td>27.00</td>\n",
       "      <td>0.00</td>\n",
       "    </tr>\n",
       "    <tr>\n",
       "      <th>6</th>\n",
       "      <td>0.30</td>\n",
       "      <td>65.55</td>\n",
       "      <td>0.01</td>\n",
       "    </tr>\n",
       "    <tr>\n",
       "      <th>7</th>\n",
       "      <td>0.35</td>\n",
       "      <td>132.34</td>\n",
       "      <td>0.02</td>\n",
       "    </tr>\n",
       "    <tr>\n",
       "      <th>8</th>\n",
       "      <td>0.40</td>\n",
       "      <td>231.93</td>\n",
       "      <td>0.04</td>\n",
       "    </tr>\n",
       "    <tr>\n",
       "      <th>9</th>\n",
       "      <td>0.45</td>\n",
       "      <td>362.16</td>\n",
       "      <td>0.06</td>\n",
       "    </tr>\n",
       "    <tr>\n",
       "      <th>10</th>\n",
       "      <td>0.50</td>\n",
       "      <td>512.00</td>\n",
       "      <td>0.08</td>\n",
       "    </tr>\n",
       "    <tr>\n",
       "      <th>11</th>\n",
       "      <td>0.55</td>\n",
       "      <td>661.23</td>\n",
       "      <td>0.11</td>\n",
       "    </tr>\n",
       "    <tr>\n",
       "      <th>12</th>\n",
       "      <td>0.60</td>\n",
       "      <td>782.76</td>\n",
       "      <td>0.13</td>\n",
       "    </tr>\n",
       "    <tr>\n",
       "      <th>13</th>\n",
       "      <td>0.65</td>\n",
       "      <td>847.66</td>\n",
       "      <td>0.14</td>\n",
       "    </tr>\n",
       "    <tr>\n",
       "      <th>14</th>\n",
       "      <td>0.70</td>\n",
       "      <td>832.71</td>\n",
       "      <td>0.13</td>\n",
       "    </tr>\n",
       "    <tr>\n",
       "      <th>15</th>\n",
       "      <td>0.75</td>\n",
       "      <td>729.00</td>\n",
       "      <td>0.12</td>\n",
       "    </tr>\n",
       "    <tr>\n",
       "      <th>16</th>\n",
       "      <td>0.80</td>\n",
       "      <td>549.76</td>\n",
       "      <td>0.09</td>\n",
       "    </tr>\n",
       "    <tr>\n",
       "      <th>17</th>\n",
       "      <td>0.85</td>\n",
       "      <td>333.68</td>\n",
       "      <td>0.05</td>\n",
       "    </tr>\n",
       "    <tr>\n",
       "      <th>18</th>\n",
       "      <td>0.90</td>\n",
       "      <td>139.31</td>\n",
       "      <td>0.02</td>\n",
       "    </tr>\n",
       "    <tr>\n",
       "      <th>19</th>\n",
       "      <td>0.95</td>\n",
       "      <td>24.09</td>\n",
       "      <td>0.00</td>\n",
       "    </tr>\n",
       "    <tr>\n",
       "      <th>20</th>\n",
       "      <td>1.00</td>\n",
       "      <td>0.00</td>\n",
       "      <td>0.00</td>\n",
       "    </tr>\n",
       "  </tbody>\n",
       "</table>\n",
       "</div>"
      ],
      "text/plain": [
       "    poss    ways  post\n",
       "0   0.00    0.00  0.00\n",
       "1   0.05    0.00  0.00\n",
       "2   0.10    0.19  0.00\n",
       "3   0.15    1.83  0.00\n",
       "4   0.20    8.59  0.00\n",
       "5   0.25   27.00  0.00\n",
       "6   0.30   65.55  0.01\n",
       "7   0.35  132.34  0.02\n",
       "8   0.40  231.93  0.04\n",
       "9   0.45  362.16  0.06\n",
       "10  0.50  512.00  0.08\n",
       "11  0.55  661.23  0.11\n",
       "12  0.60  782.76  0.13\n",
       "13  0.65  847.66  0.14\n",
       "14  0.70  832.71  0.13\n",
       "15  0.75  729.00  0.12\n",
       "16  0.80  549.76  0.09\n",
       "17  0.85  333.68  0.05\n",
       "18  0.90  139.31  0.02\n",
       "19  0.95   24.09  0.00\n",
       "20  1.00    0.00  0.00"
      ]
     },
     "metadata": {},
     "output_type": "display_data"
    },
    {
     "data": {
      "image/png": "[encoded data removed]",
      "text/plain": [
       "<Figure size 640x480 with 1 Axes>"
      ]
     },
     "metadata": {},
     "output_type": "display_data"
    }
   ],
   "source": [
    "DEFAULT_POSS = np.linspace(0,1,21)\n",
    "def compute_posterior(sample, world_size=4, poss=DEFAULT_POSS):\n",
    "    W = sum(sample == 'W')\n",
    "    L = sum(sample == 'L')\n",
    "    f = lambda q: (world_size*q)**W * (world_size*(1-q))**L\n",
    "    ways = np.array(list(map(f, poss, )))\n",
    "    post = ways/ways.sum()\n",
    "    return pd.DataFrame({'poss': poss, 'ways': ways, 'post': post}).round(2)\n",
    "\n",
    "sample = sim_globe()\n",
    "df = compute_posterior(sim_globe())\n",
    "print('Sample:', sample)\n",
    "display(df)\n",
    "sns.barplot(df, x='poss', y='post')\n",
    "plt.xticks(rotation=90)\n",
    "plt.show()\n"
   ]
  },
  {
   "attachments": {},
   "cell_type": "markdown",
   "metadata": {},
   "source": [
    "#### Approach 2: smooth globe\n",
    "\n",
    "The example for a spherical globe is almost exactly the same, since we don't care how many faces are on the surface, just what the proportion between water and land is.\n",
    "\n",
    "The posterior destribution is the [beta distribution](https://en.wikipedia.org/wiki/Beta_distribution), with shape parameters W and L."
   ]
  },
  {
   "cell_type": "code",
   "execution_count": 80,
   "metadata": {},
   "outputs": [
    {
     "name": "stdout",
     "output_type": "stream",
     "text": [
      "69 31\n"
     ]
    },
    {
     "data": {
      "image/png": "[encoded data removed]",
      "text/plain": [
       "<Figure size 640x480 with 1 Axes>"
      ]
     },
     "metadata": {},
     "output_type": "display_data"
    }
   ],
   "source": [
    "sample = sim_globe(p=0.7, n=100)\n",
    "W = (sample == 'W').sum()\n",
    "L = (sample == 'L').sum()\n",
    "print(W,L)\n",
    "\n",
    "\n",
    "X = np.linspace(0,1,100)\n",
    "Y = stats.beta.pdf(X, W, L)\n",
    "Y = Y/Y.sum()\n",
    "sns.lineplot(x=X, y=Y)\n",
    "\n",
    "# lower and upper bound for 95%\n",
    "interval = 0.89\n",
    "lower_p = (1-interval)/2\n",
    "upper_p = 1-lower_p\n",
    "lb = stats.beta.ppf(lower_p/2, W, L)\n",
    "ub = LB = stats.beta.ppf(upper_p, W, L)\n",
    "plt.axvline(lb, 0, 1, color='red')\n",
    "plt.axvline(ub, 0, 1, color='red')\n",
    "plt.ylim((0 ,Y.max()))\n",
    "plt.xlabel('Poss')\n",
    "plt.ylabel('Posterior')\n",
    "plt.show()"
   ]
  },
  {
   "attachments": {},
   "cell_type": "markdown",
   "metadata": {},
   "source": [
    "### Estimate predictive posterior distribution"
   ]
  },
  {
   "cell_type": "code",
   "execution_count": 93,
   "metadata": {},
   "outputs": [
    {
     "data": {
      "image/png": "[encoded data removed]",
      "text/plain": [
       "<Figure size 640x480 with 1 Axes>"
      ]
     },
     "metadata": {},
     "output_type": "display_data"
    }
   ],
   "source": [
    "n_post_samples = int(1e4)\n",
    "post_samples = np.random.beta(W, L, size=n_post_samples)\n",
    "f_pred_post = lambda p: (sim_globe(p=p, n=10) == 'W').sum()\n",
    "pred_post = np.fromiter(map(f_pred_post, post_samples), dtype=int)\n",
    "pred_post\n",
    "sns.histplot(pred_post)\n",
    "plt.show()"
   ]
  },
  {
   "cell_type": "markdown",
   "metadata": {},
   "source": []
  }
 ],
 "metadata": {
  "kernelspec": {
   "display_name": "Python 3.10.4 64-bit",
   "language": "python",
   "name": "python3"
  },
  "language_info": {
   "codemirror_mode": {
    "name": "ipython",
    "version": 3
   },
   "file_extension": ".py",
   "mimetype": "text/x-python",
   "name": "python",
   "nbconvert_exporter": "python",
   "pygments_lexer": "ipython3",
   "version": "3.10.4"
  },
  "orig_nbformat": 4,
  "vscode": {
   "interpreter": {
    "hash": "3ad933181bd8a04b432d3370b9dc3b0662ad032c4dfaa4e4f1596c548f763858"
   }
  }
 },
 "nbformat": 4,
 "nbformat_minor": 2
}

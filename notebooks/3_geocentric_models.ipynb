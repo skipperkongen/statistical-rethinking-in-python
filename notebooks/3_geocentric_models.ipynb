{
 "cells": [
  {
   "attachments": {},
   "cell_type": "markdown",
   "metadata": {},
   "source": [
    "# Geocentric models (lecture 3)\n",
    "\n",
    "> https://youtu.be/tNOu-SEacNU\n",
    "\n",
    "An model (statistical) may provide good predictions, even if it's (causally) completely wrong.\n",
    "\n",
    "Linear regression is an example of a statistical model that predicts well, but generally fails to correctly explain causality since few phenomena are actually linearly related.\n",
    "\n",
    "Case in point, ancient astronomers predicted the planetary retrograde phenomenon (planets zig-zags across the sky) within a geocentric model. They assumed the wrong thing, but the predictions worked anyway. In the geocentric model planets orbit around the Earth in epicycles, that is orbits on orbits. We now know that a different model (the iliocentric model) is a better representation of the solar system. The iliocentric model simultaneously predicts as well and correctly explains how planets move, namely in elliptic orbits around the sun. "
   ]
  },
  {
   "cell_type": "code",
   "execution_count": 2,
   "metadata": {},
   "outputs": [],
   "source": [
    "import matplotlib.pyplot as plt\n",
    "import pandas as pd\n",
    "import numpy as np\n",
    "import seaborn as sns\n",
    "from scipy import stats\n",
    "import matplotlib.patches as patches"
   ]
  },
  {
   "attachments": {},
   "cell_type": "markdown",
   "metadata": {},
   "source": [
    "## Where do normal or gaussian distributions come from?\n",
    "\n",
    "Generative argument: many small errors accumulate to the normal distribution because:\n",
    "- small cumulative errors can be generated in many more ways than big cumulative errors"
   ]
  },
  {
   "cell_type": "code",
   "execution_count": 11,
   "metadata": {},
   "outputs": [
    {
     "data": {
      "text/plain": [
       "<Axes: ylabel='Count'>"
      ]
     },
     "execution_count": 11,
     "metadata": {},
     "output_type": "execute_result"
    },
    {
     "data": {
      "image/png": "[encoded data removed]",
      "text/plain": [
       "<Figure size 640x480 with 1 Axes>"
      ]
     },
     "metadata": {},
     "output_type": "display_data"
    }
   ],
   "source": [
    "def football_flip(n, rounds):\n",
    "    pos = np.zeros(n)\n",
    "    for _ in range(rounds):\n",
    "        delta = np.random.choice([-1, 1], size=n)\n",
    "        pos += delta\n",
    "    return pos\n",
    "\n",
    "pos = football_flip(n=int(1e3), rounds=int(1e4))\n",
    "sns.histplot(pos)"
   ]
  },
  {
   "attachments": {},
   "cell_type": "markdown",
   "metadata": {},
   "source": [
    "## Why are normal distributions a good first assumption?\n",
    "\n",
    "They make the least claims about the distribution other than a central tendency and a variation around the mean.  \n",
    "\n",
    "> A variable does not have to be (actually) normally distribution for normal models to be useful. It's a machine for estimating mean and variance."
   ]
  },
  {
   "attachments": {},
   "cell_type": "markdown",
   "metadata": {},
   "source": [
    "To be continued... (I've watched first 19 minutes)"
   ]
  },
  {
   "cell_type": "markdown",
   "metadata": {},
   "source": []
  }
 ],
 "metadata": {
  "kernelspec": {
   "display_name": "Python 3",
   "language": "python",
   "name": "python3"
  },
  "language_info": {
   "codemirror_mode": {
    "name": "ipython",
    "version": 3
   },
   "file_extension": ".py",
   "mimetype": "text/x-python",
   "name": "python",
   "nbconvert_exporter": "python",
   "pygments_lexer": "ipython3",
   "version": "3.10.4"
  },
  "orig_nbformat": 4
 },
 "nbformat": 4,
 "nbformat_minor": 2
}

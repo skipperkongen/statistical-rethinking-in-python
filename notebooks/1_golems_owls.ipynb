{
 "cells": [
  {
   "attachments": {},
   "cell_type": "markdown",
   "metadata": {},
   "source": [
    "# The Golem of Prague (and How to Draw an Owl)\n",
    "\n",
    "About Golems, in reality and as metaphore for models:\n",
    "- Neither morally good nor morally bad\n",
    "- Simple machines that can be both useful or harmful\n",
    "- Do the bidding of their masters \n",
    "\n",
    "The workflow (or how to draw an owl)\n",
    "\n",
    "1. Formulate question/goal/estimand\n",
    "2. Create scientific/generative model\n",
    "3. Create statistical model \n",
    "4. Validate model\n",
    "5. Analyze data"
   ]
  },
  {
   "cell_type": "code",
   "execution_count": null,
   "metadata": {},
   "outputs": [],
   "source": []
  }
 ],
 "metadata": {
  "language_info": {
   "name": "python"
  },
  "orig_nbformat": 4
 },
 "nbformat": 4,
 "nbformat_minor": 2
}

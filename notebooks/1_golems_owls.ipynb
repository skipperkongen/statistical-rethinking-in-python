{
 "cells": [
  {
   "attachments": {},
   "cell_type": "markdown",
   "metadata": {},
   "source": [
    "# The Golem of Prague (and How to Draw an Owl)\n",
    "\n",
    "About Golems, in reality and as metaphore for models:\n",
    "- Neither morally good nor morally bad\n",
    "- Simple machines that can be both useful or harmful\n",
    "- Do the bidding of their masters \n",
    "\n",
    "The workflow (or how to draw an owl)\n",
    "- "
   ]
  },
  {
   "cell_type": "code",
   "execution_count": null,
   "metadata": {},
   "outputs": [],
   "source": []
  }
 ],
 "metadata": {
  "language_info": {
   "name": "python"
  },
  "orig_nbformat": 4
 },
 "nbformat": 4,
 "nbformat_minor": 2
}
